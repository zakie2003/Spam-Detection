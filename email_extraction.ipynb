{
 "cells": [
  {
   "cell_type": "code",
   "execution_count": 5,
   "metadata": {},
   "outputs": [],
   "source": [
    "import imaplib\n",
    "import email\n",
    "from functools import reduce\n",
    "from bs4 import BeautifulSoup  # to clean up HTML content"
   ]
  },
  {
   "cell_type": "code",
   "execution_count": 6,
   "metadata": {},
   "outputs": [],
   "source": [
    "arr=[\"noreply@mailers.zomato.com\",\"vamshi@7783956.m-sender-sib.com\",\"student@internshala.com\",\"no-reply@geeksforgeeks.org\",\"trainings@updates.internshala.com\",\"no-reply@m.mail.coursera.org\"]"
   ]
  },
  {
   "cell_type": "code",
   "execution_count": 7,
   "metadata": {},
   "outputs": [],
   "source": [
    "email_arr=[]"
   ]
  },
  {
   "cell_type": "code",
   "execution_count": 8,
   "metadata": {},
   "outputs": [],
   "source": [
    "def process_email_content(msg):\n",
    "    if msg.is_multipart():\n",
    "        for part in msg.walk():\n",
    "            content_type = part.get_content_type()\n",
    "            if content_type == \"text/plain\":\n",
    "                return part.get_payload(decode=True).decode().strip()\n",
    "            elif content_type == \"text/html\":\n",
    "                html_content = part.get_payload(decode=True)\n",
    "                soup = BeautifulSoup(html_content, \"html.parser\")\n",
    "                return soup.get_text().strip()  \n",
    "            elif content_type.startswith(\"image\"):\n",
    "                return \"This email contains only images.\"\n",
    "    else:\n",
    "        content_type = msg.get_content_type()\n",
    "        if content_type.startswith(\"image\"):\n",
    "            return \"This email contains only images.\"\n",
    "        elif content_type == \"text/html\":\n",
    "            html_content = msg.get_payload(decode=True)\n",
    "            soup = BeautifulSoup(html_content, \"html.parser\")\n",
    "            return soup.get_text().strip()\n",
    "        else:\n",
    "            return msg.get_payload(decode=True).decode().strip()\n",
    "\n",
    "\n",
    "def search(key, value, con): \n",
    "    result, data = con.search(None, key, '\"{}\"'.format(value))\n",
    "    return data\n",
    "\n",
    "\n",
    "def get_emails(result_bytes):\n",
    "    msgs = []  \n",
    "    for num in result_bytes[0].split():\n",
    "        typ, data = con.fetch(num, '(RFC822)')\n",
    "        msgs.append(data)\n",
    "    return msgs\n",
    "\n",
    "\n",
    "user = 'zk.khan2003@gmail.com'  \n",
    "password = 'qddl jsqs bdwo theq'  \n",
    "imap_url = 'imap.gmail.com'\n",
    "\n",
    "\n",
    "con = imaplib.IMAP4_SSL(imap_url)\n",
    "\n",
    "\n",
    "con.login(user, password)\n",
    "\n",
    "\n",
    "con.select('Inbox')\n",
    "\n",
    "for i in arr:\n",
    "\n",
    "    msgs = get_emails(search('FROM', i, con))\n",
    "\n",
    "    for msg in msgs[::-1]: \n",
    "        for sent in msg:\n",
    "            if type(sent) is tuple: \n",
    "                raw_email = email.message_from_bytes(sent[1])\n",
    "                email_content = process_email_content(raw_email)\n",
    "                if(email_content!=\"\"):\n",
    "                    email_arr.append(email_content)  \n"
   ]
  },
  {
   "cell_type": "code",
   "execution_count": 9,
   "metadata": {},
   "outputs": [
    {
     "data": {
      "text/plain": [
       "295"
      ]
     },
     "execution_count": 9,
     "metadata": {},
     "output_type": "execute_result"
    }
   ],
   "source": [
    "len(email_arr)"
   ]
  },
  {
   "cell_type": "code",
   "execution_count": 10,
   "metadata": {},
   "outputs": [],
   "source": [
    "myset = set(email_arr)\n"
   ]
  },
  {
   "cell_type": "code",
   "execution_count": 11,
   "metadata": {},
   "outputs": [],
   "source": [
    "import pandas as pd\n",
    "pd.DataFrame({\"v2\":list(myset),\"v1\":1}).to_csv(\"Custom_Email.csv\")"
   ]
  },
  {
   "cell_type": "code",
   "execution_count": null,
   "metadata": {},
   "outputs": [],
   "source": []
  }
 ],
 "metadata": {
  "kernelspec": {
   "display_name": "cuda_env",
   "language": "python",
   "name": "python3"
  },
  "language_info": {
   "codemirror_mode": {
    "name": "ipython",
    "version": 3
   },
   "file_extension": ".py",
   "mimetype": "text/x-python",
   "name": "python",
   "nbconvert_exporter": "python",
   "pygments_lexer": "ipython3",
   "version": "3.10.14"
  }
 },
 "nbformat": 4,
 "nbformat_minor": 2
}
